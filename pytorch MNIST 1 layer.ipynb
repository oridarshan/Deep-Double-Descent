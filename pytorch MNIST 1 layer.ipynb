{
 "cells": [
  {
   "cell_type": "code",
   "execution_count": 1,
   "metadata": {
    "colab": {
     "base_uri": "https://localhost:8080/"
    },
    "executionInfo": {
     "elapsed": 5100,
     "status": "ok",
     "timestamp": 1682492099945,
     "user": {
      "displayName": "Ori Darshan",
      "userId": "10783320972420848093"
     },
     "user_tz": -180
    },
    "id": "3jrgKXY2eDv8",
    "outputId": "fcb17907-80e5-4ed7-ba66-2dfc8010f79f"
   },
   "outputs": [
    {
     "data": {
      "text/plain": [
       "<torch._C.Generator at 0x1b3f9912c50>"
      ]
     },
     "execution_count": 1,
     "metadata": {},
     "output_type": "execute_result"
    }
   ],
   "source": [
    "import torch\n",
    "from torch import nn\n",
    "from torch.utils.data import DataLoader\n",
    "from torchvision import datasets\n",
    "from torchvision.transforms import ToTensor\n",
    "import numpy as np\n",
    "np.random.seed(0)\n",
    "torch.manual_seed(0)"
   ]
  },
  {
   "cell_type": "code",
   "execution_count": 2,
   "metadata": {
    "colab": {
     "base_uri": "https://localhost:8080/"
    },
    "executionInfo": {
     "elapsed": 515,
     "status": "ok",
     "timestamp": 1682492100455,
     "user": {
      "displayName": "Ori Darshan",
      "userId": "10783320972420848093"
     },
     "user_tz": -180
    },
    "id": "23TOba33L4qf",
    "outputId": "c03d6208-4508-49ac-ac01-d9f5ecd377ac"
   },
   "outputs": [],
   "source": [
    "# gpu_info = !nvidia-smi\n",
    "# gpu_info = '\\n'.join(gpu_info)\n",
    "# if gpu_info.find('failed') >= 0:\n",
    "#   print('Not connected to a GPU')\n",
    "# else:\n",
    "#   print(gpu_info)"
   ]
  },
  {
   "cell_type": "code",
   "execution_count": 3,
   "metadata": {
    "colab": {
     "base_uri": "https://localhost:8080/"
    },
    "executionInfo": {
     "elapsed": 1510,
     "status": "ok",
     "timestamp": 1682492101960,
     "user": {
      "displayName": "Ori Darshan",
      "userId": "10783320972420848093"
     },
     "user_tz": -180
    },
    "id": "2DcoXqxbeHjx",
    "outputId": "2b636e18-0c7d-4228-f733-29591b2c0940"
   },
   "outputs": [
    {
     "name": "stdout",
     "output_type": "stream",
     "text": [
      "Downloading http://yann.lecun.com/exdb/mnist/train-images-idx3-ubyte.gz\n",
      "Downloading http://yann.lecun.com/exdb/mnist/train-images-idx3-ubyte.gz to data\\MNIST\\raw\\train-images-idx3-ubyte.gz\n"
     ]
    },
    {
     "name": "stderr",
     "output_type": "stream",
     "text": [
      "100.0%\n"
     ]
    },
    {
     "name": "stdout",
     "output_type": "stream",
     "text": [
      "Extracting data\\MNIST\\raw\\train-images-idx3-ubyte.gz to data\\MNIST\\raw\n",
      "\n",
      "Downloading http://yann.lecun.com/exdb/mnist/train-labels-idx1-ubyte.gz\n",
      "Downloading http://yann.lecun.com/exdb/mnist/train-labels-idx1-ubyte.gz to data\\MNIST\\raw\\train-labels-idx1-ubyte.gz\n"
     ]
    },
    {
     "name": "stderr",
     "output_type": "stream",
     "text": [
      "100.0%\n"
     ]
    },
    {
     "name": "stdout",
     "output_type": "stream",
     "text": [
      "Extracting data\\MNIST\\raw\\train-labels-idx1-ubyte.gz to data\\MNIST\\raw\n",
      "\n",
      "Downloading http://yann.lecun.com/exdb/mnist/t10k-images-idx3-ubyte.gz\n",
      "Downloading http://yann.lecun.com/exdb/mnist/t10k-images-idx3-ubyte.gz to data\\MNIST\\raw\\t10k-images-idx3-ubyte.gz\n"
     ]
    },
    {
     "name": "stderr",
     "output_type": "stream",
     "text": [
      "100.0%\n"
     ]
    },
    {
     "name": "stdout",
     "output_type": "stream",
     "text": [
      "Extracting data\\MNIST\\raw\\t10k-images-idx3-ubyte.gz to data\\MNIST\\raw\n",
      "\n",
      "Downloading http://yann.lecun.com/exdb/mnist/t10k-labels-idx1-ubyte.gz\n"
     ]
    },
    {
     "name": "stderr",
     "output_type": "stream",
     "text": [
      "100.0%"
     ]
    },
    {
     "name": "stdout",
     "output_type": "stream",
     "text": [
      "Downloading http://yann.lecun.com/exdb/mnist/t10k-labels-idx1-ubyte.gz to data\\MNIST\\raw\\t10k-labels-idx1-ubyte.gz\n",
      "Extracting data\\MNIST\\raw\\t10k-labels-idx1-ubyte.gz to data\\MNIST\\raw\n",
      "\n"
     ]
    },
    {
     "name": "stderr",
     "output_type": "stream",
     "text": [
      "\n"
     ]
    }
   ],
   "source": [
    "# Download training data from open datasets.\n",
    "training_data = datasets.MNIST(\n",
    "    root=\"data\",\n",
    "    train=True,\n",
    "    download=True,\n",
    "    transform=ToTensor(),\n",
    ")\n",
    "\n",
    "# Download test data from open datasets.\n",
    "test_data = datasets.MNIST(\n",
    "    root=\"data\",\n",
    "    train=False,\n",
    "    download=True,\n",
    "    transform=ToTensor(),\n",
    ")"
   ]
  },
  {
   "cell_type": "code",
   "execution_count": 4,
   "metadata": {
    "executionInfo": {
     "elapsed": 5,
     "status": "ok",
     "timestamp": 1682492101961,
     "user": {
      "displayName": "Ori Darshan",
      "userId": "10783320972420848093"
     },
     "user_tz": -180
    },
    "id": "TAqDc1YhU3Xo"
   },
   "outputs": [],
   "source": [
    "train_datasets = []\n",
    "for i in range (10):\n",
    "    # reduce datasets\n",
    "    from torch.utils.data import Subset\n",
    "\n",
    "    # train data\n",
    "    train_idx = np.random.choice(60000, 4000)\n",
    "    train_datasets.append(Subset(training_data, train_idx))\n",
    "\n",
    "# test data\n",
    "test_idx = np.random.choice(10000, 1000)\n",
    "test_data = Subset(test_data, test_idx)"
   ]
  },
  {
   "cell_type": "code",
   "execution_count": 5,
   "metadata": {
    "colab": {
     "base_uri": "https://localhost:8080/"
    },
    "executionInfo": {
     "elapsed": 6,
     "status": "ok",
     "timestamp": 1682492101962,
     "user": {
      "displayName": "Ori Darshan",
      "userId": "10783320972420848093"
     },
     "user_tz": -180
    },
    "id": "-GK-dVHZYczT",
    "outputId": "c34224b5-704b-4aeb-bd7d-80730787306a"
   },
   "outputs": [
    {
     "name": "stdout",
     "output_type": "stream",
     "text": [
      "Using cuda device\n"
     ]
    }
   ],
   "source": [
    "batch_size = 256\n",
    "epochs = 1000\n",
    "learning_rate = 1e-4\n",
    "\n",
    "# Get cpu or gpu device for training.\n",
    "device = \"cuda\" if torch.cuda.is_available() else \"mps\" if torch.backends.mps.is_available() else \"cpu\"\n",
    "print(f\"Using {device} device\")\n",
    "\n",
    "\n"
   ]
  },
  {
   "attachments": {},
   "cell_type": "markdown",
   "metadata": {
    "id": "JcTsMeV6zgHV"
   },
   "source": [
    "## Run on only 1 dataset\n",
    "to get an idea of the reults in reasonable time"
   ]
  },
  {
   "cell_type": "code",
   "execution_count": 6,
   "metadata": {
    "colab": {
     "base_uri": "https://localhost:8080/"
    },
    "id": "o7cgP9Ie18dj",
    "outputId": "648bd8be-30a5-4fac-e061-b6d1165a309d"
   },
   "outputs": [
    {
     "name": "stdout",
     "output_type": "stream",
     "text": [
      "********* Single Dataset ***********\n",
      "\n",
      "******* Middle layer size: 1 **************\n",
      "\n"
     ]
    },
    {
     "name": "stderr",
     "output_type": "stream",
     "text": [
      "C:\\Users\\אורי\\AppData\\Local\\Packages\\PythonSoftwareFoundation.Python.3.9_qbz5n2kfra8p0\\LocalCache\\local-packages\\Python39\\site-packages\\torch\\nn\\modules\\container.py:217: UserWarning: Implicit dimension choice for softmax has been deprecated. Change the call to include dim=X as an argument.\n",
      "  input = module(input)\n"
     ]
    },
    {
     "name": "stdout",
     "output_type": "stream",
     "text": [
      "Test Error: \n",
      " Accuracy: 23.1%, Avg loss: 2.196321 \n",
      "\n",
      "Train Loss: 2.176351 \n",
      "\n",
      "Done!\n",
      "\n",
      "******* Middle layer size: 2 **************\n",
      "\n",
      "Test Error: \n",
      " Accuracy: 50.6%, Avg loss: 1.975675 \n",
      "\n",
      "Train Loss: 1.930132 \n",
      "\n",
      "Done!\n",
      "\n",
      "******* Middle layer size: 3 **************\n",
      "\n",
      "Test Error: \n",
      " Accuracy: 66.8%, Avg loss: 1.827754 \n",
      "\n",
      "Train Loss: 1.770871 \n",
      "\n",
      "Done!\n",
      "\n",
      "******* Middle layer size: 4 **************\n",
      "\n",
      "Test Error: \n",
      " Accuracy: 67.9%, Avg loss: 1.797790 \n",
      "\n",
      "Train Loss: 1.674937 \n",
      "\n",
      "Done!\n",
      "\n",
      "******* Middle layer size: 5 **************\n",
      "\n",
      "Test Error: \n",
      " Accuracy: 70.8%, Avg loss: 1.757503 \n",
      "\n",
      "Train Loss: 1.661752 \n",
      "\n",
      "Done!\n",
      "\n",
      "******* Middle layer size: 6 **************\n",
      "\n",
      "Test Error: \n",
      " Accuracy: 78.6%, Avg loss: 1.685880 \n",
      "\n",
      "Train Loss: 1.588471 \n",
      "\n",
      "Done!\n",
      "\n",
      "******* Middle layer size: 7 **************\n",
      "\n",
      "Test Error: \n",
      " Accuracy: 73.2%, Avg loss: 1.732890 \n",
      "\n",
      "Train Loss: 1.610061 \n",
      "\n",
      "Done!\n",
      "\n",
      "******* Middle layer size: 8 **************\n",
      "\n",
      "Test Error: \n",
      " Accuracy: 72.2%, Avg loss: 1.736489 \n",
      "\n",
      "Train Loss: 1.620994 \n",
      "\n",
      "Done!\n",
      "\n",
      "******* Middle layer size: 9 **************\n",
      "\n",
      "Test Error: \n",
      " Accuracy: 80.8%, Avg loss: 1.659436 \n",
      "\n",
      "Train Loss: 1.549318 \n",
      "\n",
      "Done!\n",
      "\n",
      "******* Middle layer size: 10 **************\n",
      "\n",
      "Test Error: \n",
      " Accuracy: 88.4%, Avg loss: 1.579318 \n",
      "\n",
      "Train Loss: 1.504855 \n",
      "\n",
      "Done!\n",
      "\n",
      "******* Middle layer size: 11 **************\n",
      "\n",
      "Test Error: \n",
      " Accuracy: 81.9%, Avg loss: 1.650483 \n",
      "\n",
      "Train Loss: 1.575386 \n",
      "\n",
      "Done!\n",
      "\n",
      "******* Middle layer size: 12 **************\n",
      "\n",
      "Test Error: \n",
      " Accuracy: 90.6%, Avg loss: 1.564330 \n",
      "\n",
      "Train Loss: 1.497060 \n",
      "\n",
      "Done!\n",
      "\n",
      "******* Middle layer size: 13 **************\n",
      "\n",
      "Test Error: \n",
      " Accuracy: 89.8%, Avg loss: 1.570342 \n",
      "\n",
      "Train Loss: 1.500483 \n",
      "\n",
      "Done!\n",
      "\n",
      "******* Middle layer size: 14 **************\n",
      "\n",
      "Test Error: \n",
      " Accuracy: 89.9%, Avg loss: 1.566314 \n",
      "\n",
      "Train Loss: 1.507061 \n",
      "\n",
      "Done!\n",
      "\n",
      "******* Middle layer size: 15 **************\n",
      "\n",
      "Test Error: \n",
      " Accuracy: 81.3%, Avg loss: 1.649664 \n",
      "\n",
      "Train Loss: 1.556209 \n",
      "\n",
      "Done!\n",
      "\n",
      "******* Middle layer size: 16 **************\n",
      "\n",
      "Test Error: \n",
      " Accuracy: 89.6%, Avg loss: 1.569715 \n",
      "\n",
      "Train Loss: 1.503161 \n",
      "\n",
      "Done!\n",
      "\n",
      "******* Middle layer size: 17 **************\n",
      "\n",
      "Test Error: \n",
      " Accuracy: 90.4%, Avg loss: 1.562528 \n",
      "\n",
      "Train Loss: 1.507773 \n",
      "\n",
      "Done!\n",
      "\n",
      "******* Middle layer size: 18 **************\n",
      "\n",
      "Test Error: \n",
      " Accuracy: 89.9%, Avg loss: 1.564779 \n",
      "\n",
      "Train Loss: 1.500814 \n",
      "\n",
      "Done!\n",
      "\n",
      "******* Middle layer size: 19 **************\n",
      "\n",
      "Test Error: \n",
      " Accuracy: 90.0%, Avg loss: 1.566256 \n",
      "\n",
      "Train Loss: 1.492336 \n",
      "\n",
      "Done!\n",
      "\n",
      "******* Middle layer size: 20 **************\n",
      "\n",
      "Test Error: \n",
      " Accuracy: 81.6%, Avg loss: 1.645597 \n",
      "\n",
      "Train Loss: 1.531205 \n",
      "\n",
      "Done!\n",
      "\n",
      "******* Middle layer size: 21 **************\n",
      "\n",
      "Test Error: \n",
      " Accuracy: 90.5%, Avg loss: 1.564439 \n",
      "\n",
      "Train Loss: 1.494457 \n",
      "\n",
      "Done!\n",
      "\n",
      "******* Middle layer size: 22 **************\n",
      "\n",
      "Test Error: \n",
      " Accuracy: 89.9%, Avg loss: 1.566981 \n",
      "\n",
      "Train Loss: 1.502899 \n",
      "\n",
      "Done!\n",
      "\n",
      "******* Middle layer size: 23 **************\n",
      "\n",
      "Test Error: \n",
      " Accuracy: 90.2%, Avg loss: 1.565993 \n",
      "\n",
      "Train Loss: 1.490271 \n",
      "\n",
      "Done!\n",
      "\n",
      "******* Middle layer size: 24 **************\n",
      "\n",
      "Test Error: \n",
      " Accuracy: 90.3%, Avg loss: 1.564559 \n",
      "\n",
      "Train Loss: 1.499018 \n",
      "\n",
      "Done!\n",
      "\n",
      "******* Middle layer size: 25 **************\n",
      "\n",
      "Test Error: \n",
      " Accuracy: 91.2%, Avg loss: 1.555589 \n",
      "\n",
      "Train Loss: 1.488045 \n",
      "\n",
      "Done!\n",
      "\n",
      "******* Middle layer size: 26 **************\n",
      "\n",
      "Test Error: \n",
      " Accuracy: 90.4%, Avg loss: 1.562027 \n",
      "\n",
      "Train Loss: 1.493128 \n",
      "\n",
      "Done!\n",
      "\n",
      "******* Middle layer size: 27 **************\n",
      "\n",
      "Test Error: \n",
      " Accuracy: 90.7%, Avg loss: 1.558801 \n",
      "\n",
      "Train Loss: 1.499241 \n",
      "\n",
      "Done!\n",
      "\n",
      "******* Middle layer size: 28 **************\n",
      "\n",
      "Test Error: \n",
      " Accuracy: 90.2%, Avg loss: 1.560897 \n",
      "\n",
      "Train Loss: 1.493694 \n",
      "\n",
      "Done!\n",
      "\n",
      "******* Middle layer size: 29 **************\n",
      "\n",
      "Test Error: \n",
      " Accuracy: 90.5%, Avg loss: 1.562176 \n",
      "\n",
      "Train Loss: 1.493489 \n",
      "\n",
      "Done!\n",
      "\n",
      "******* Middle layer size: 30 **************\n",
      "\n",
      "Test Error: \n",
      " Accuracy: 89.9%, Avg loss: 1.563924 \n",
      "\n",
      "Train Loss: 1.493182 \n",
      "\n",
      "Done!\n",
      "\n",
      "******* Middle layer size: 31 **************\n",
      "\n",
      "Test Error: \n",
      " Accuracy: 89.8%, Avg loss: 1.567099 \n",
      "\n",
      "Train Loss: 1.499380 \n",
      "\n",
      "Done!\n",
      "\n",
      "******* Middle layer size: 32 **************\n",
      "\n",
      "Test Error: \n",
      " Accuracy: 90.2%, Avg loss: 1.561234 \n",
      "\n",
      "Train Loss: 1.482779 \n",
      "\n",
      "Done!\n",
      "\n",
      "******* Middle layer size: 33 **************\n",
      "\n",
      "Test Error: \n",
      " Accuracy: 90.6%, Avg loss: 1.559758 \n",
      "\n",
      "Train Loss: 1.482221 \n",
      "\n",
      "Done!\n",
      "\n",
      "******* Middle layer size: 34 **************\n",
      "\n",
      "Test Error: \n",
      " Accuracy: 90.9%, Avg loss: 1.557232 \n",
      "\n",
      "Train Loss: 1.487119 \n",
      "\n",
      "Done!\n",
      "\n",
      "******* Middle layer size: 35 **************\n",
      "\n",
      "Test Error: \n",
      " Accuracy: 90.8%, Avg loss: 1.559610 \n",
      "\n",
      "Train Loss: 1.487145 \n",
      "\n",
      "Done!\n",
      "\n",
      "******* Middle layer size: 36 **************\n",
      "\n",
      "Test Error: \n",
      " Accuracy: 81.5%, Avg loss: 1.644088 \n",
      "\n",
      "Train Loss: 1.552878 \n",
      "\n",
      "Done!\n",
      "\n",
      "******* Middle layer size: 37 **************\n",
      "\n",
      "Test Error: \n",
      " Accuracy: 90.7%, Avg loss: 1.559265 \n",
      "\n",
      "Train Loss: 1.493848 \n",
      "\n",
      "Done!\n",
      "\n",
      "******* Middle layer size: 38 **************\n",
      "\n",
      "Test Error: \n",
      " Accuracy: 89.8%, Avg loss: 1.564444 \n",
      "\n",
      "Train Loss: 1.498031 \n",
      "\n",
      "Done!\n",
      "\n",
      "******* Middle layer size: 39 **************\n",
      "\n",
      "Test Error: \n",
      " Accuracy: 90.6%, Avg loss: 1.557152 \n",
      "\n",
      "Train Loss: 1.496200 \n",
      "\n",
      "Done!\n",
      "\n",
      "******* Middle layer size: 40 **************\n",
      "\n",
      "Test Error: \n",
      " Accuracy: 91.3%, Avg loss: 1.556937 \n",
      "\n",
      "Train Loss: 1.486858 \n",
      "\n",
      "Done!\n"
     ]
    }
   ],
   "source": [
    "mean_layer_size_list = np.zeros(40)\n",
    "mean_train_loss_list = np.zeros(40)\n",
    "mean_test_loss_list = np.zeros(40)\n",
    "\n",
    "print(f\"********* Single Dataset ***********\")\n",
    "layer_size_list = []\n",
    "train_loss_list = []\n",
    "test_loss_list = []\n",
    "# Create data loaders.\n",
    "train_dataloader = DataLoader(train_datasets[0], batch_size=batch_size)\n",
    "test_dataloader = DataLoader(test_data, batch_size=batch_size)\n",
    "\n",
    "for net_size in range(1,41):\n",
    "    # Define model\n",
    "    class NeuralNetwork(nn.Module):\n",
    "        def __init__(self):\n",
    "            super().__init__()\n",
    "            self.flatten = nn.Flatten()\n",
    "            self.linear_relu_stack = nn.Sequential(\n",
    "                nn.Linear(28*28, net_size),\n",
    "                nn.ReLU(),\n",
    "                nn.Linear(net_size, 10),\n",
    "                nn.Softmax(),\n",
    "            )\n",
    "\n",
    "        def forward(self, x):\n",
    "            x = self.flatten(x)\n",
    "            logits = self.linear_relu_stack(x)\n",
    "            return logits\n",
    "\n",
    "    model = NeuralNetwork().to(device)\n",
    "    # print(model)\n",
    "\n",
    "    # define loss and optimizer\n",
    "    loss_fn = nn.CrossEntropyLoss()\n",
    "    optimizer = torch.optim.Adam(model.parameters(), lr=learning_rate, eps=1e-07)\n",
    "\n",
    "    # define train function\n",
    "    def train(dataloader, model, loss_fn, optimizer):\n",
    "        size = len(dataloader.dataset)\n",
    "        model.train()\n",
    "        for batch, (X, y) in enumerate(dataloader):\n",
    "            X, y = X.to(device), y.to(device)\n",
    "\n",
    "            # Compute prediction error\n",
    "            pred = model(X)\n",
    "            loss = loss_fn(pred, y)\n",
    "\n",
    "            # Backpropagation\n",
    "            optimizer.zero_grad()\n",
    "            loss.backward()\n",
    "            optimizer.step()\n",
    "\n",
    "            # if batch % 100 == 0:\n",
    "            #     loss, current = loss.item(), (batch + 1) * len(X)\n",
    "            #     print(f\"loss: {loss:>7f}  [{current:>5d}/{size:>5d}]\")\n",
    "        return loss.item()\n",
    "\n",
    "    # define test function\n",
    "    def test(dataloader, model, loss_fn):\n",
    "        size = len(dataloader.dataset)\n",
    "        num_batches = len(dataloader)\n",
    "        model.eval()\n",
    "        test_loss, correct = 0, 0\n",
    "        with torch.no_grad():\n",
    "            for X, y in dataloader:\n",
    "                X, y = X.to(device), y.to(device)\n",
    "                pred = model(X)\n",
    "                test_loss += loss_fn(pred, y).item()\n",
    "                correct += (pred.argmax(1) == y).type(torch.float).sum().item()\n",
    "        test_loss /= num_batches\n",
    "        correct /= size\n",
    "        print(f\"Test Error: \\n Accuracy: {(100*correct):>0.1f}%, Avg loss: {test_loss:>8f} \\n\")\n",
    "        return test_loss\n",
    "\n",
    "    # train!\n",
    "    print('\\n******* Middle layer size: {} **************\\n'.format(net_size))\n",
    "    for t in range(epochs):\n",
    "        # print(f\"Epoch {t+1}\\n-------------------------------\")\n",
    "        train_loss = train(train_dataloader, model, loss_fn, optimizer)\n",
    "    test_loss = test(test_dataloader, model, loss_fn)\n",
    "    print(f\"Train Loss: {train_loss:>8f} \\n\")\n",
    "        \n",
    "    layer_size_list.append(net_size)\n",
    "    train_loss_list.append(train_loss)\n",
    "    test_loss_list.append(test_loss)\n",
    "    print(\"Done!\")\n",
    "\n",
    "# save stats\n",
    "mean_layer_size_list += layer_size_list\n",
    "mean_train_loss_list += train_loss_list\n",
    "mean_test_loss_list += test_loss_list\n"
   ]
  },
  {
   "cell_type": "code",
   "execution_count": 7,
   "metadata": {
    "id": "QoHN2bCe3A0A"
   },
   "outputs": [
    {
     "data": {
      "image/png": "[encoded data removed]",
      "text/plain": [
       "<Figure size 640x480 with 1 Axes>"
      ]
     },
     "metadata": {},
     "output_type": "display_data"
    }
   ],
   "source": [
    "# Plot the training and test loss.\n",
    "import matplotlib.pyplot as plt\n",
    "x = np.arange(0, epochs, 1)\n",
    "plt.title('Training and Test Loss')\n",
    "plt.xlabel('net size')\n",
    "plt.ylabel('Loss')\n",
    "plt.plot(layer_size_list, mean_train_loss_list, label='Training Loss')\n",
    "plt.plot(layer_size_list, mean_test_loss_list, label='Test Loss')\n",
    "plt.legend()\n",
    "plt.show()"
   ]
  }
 ],
 "metadata": {
  "accelerator": "GPU",
  "colab": {
   "provenance": []
  },
  "gpuClass": "standard",
  "kernelspec": {
   "display_name": "Python 3",
   "language": "python",
   "name": "python3"
  },
  "language_info": {
   "codemirror_mode": {
    "name": "ipython",
    "version": 3
   },
   "file_extension": ".py",
   "mimetype": "text/x-python",
   "name": "python",
   "nbconvert_exporter": "python",
   "pygments_lexer": "ipython3",
   "version": "3.9.13"
  }
 },
 "nbformat": 4,
 "nbformat_minor": 1
}
