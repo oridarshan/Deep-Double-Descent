{
 "cells": [
  {
   "cell_type": "code",
   "execution_count": 1,
   "metadata": {
    "colab": {
     "base_uri": "https://localhost:8080/"
    },
    "executionInfo": {
     "elapsed": 5100,
     "status": "ok",
     "timestamp": 1682492099945,
     "user": {
      "displayName": "Ori Darshan",
      "userId": "10783320972420848093"
     },
     "user_tz": -180
    },
    "id": "3jrgKXY2eDv8",
    "outputId": "fcb17907-80e5-4ed7-ba66-2dfc8010f79f"
   },
   "outputs": [
    {
     "data": {
      "text/plain": [
       "<torch._C.Generator at 0x12c7f98f2d0>"
      ]
     },
     "execution_count": 1,
     "metadata": {},
     "output_type": "execute_result"
    }
   ],
   "source": [
    "import torch\n",
    "from torch import nn\n",
    "from torch.utils.data import DataLoader\n",
    "from torchvision import datasets\n",
    "from torchvision.transforms import ToTensor\n",
    "import numpy as np\n",
    "np.random.seed(0)\n",
    "torch.manual_seed(0)"
   ]
  },
  {
   "cell_type": "code",
   "execution_count": 2,
   "metadata": {
    "colab": {
     "base_uri": "https://localhost:8080/"
    },
    "executionInfo": {
     "elapsed": 515,
     "status": "ok",
     "timestamp": 1682492100455,
     "user": {
      "displayName": "Ori Darshan",
      "userId": "10783320972420848093"
     },
     "user_tz": -180
    },
    "id": "23TOba33L4qf",
    "outputId": "c03d6208-4508-49ac-ac01-d9f5ecd377ac"
   },
   "outputs": [
    {
     "name": "stdout",
     "output_type": "stream",
     "text": [
      "'nvidia-smi' is not recognized as an internal or external command,\n",
      "operable program or batch file.\n"
     ]
    }
   ],
   "source": [
    "gpu_info = !nvidia-smi\n",
    "gpu_info = '\\n'.join(gpu_info)\n",
    "if gpu_info.find('failed') >= 0:\n",
    "  print('Not connected to a GPU')\n",
    "else:\n",
    "  print(gpu_info)"
   ]
  },
  {
   "cell_type": "code",
   "execution_count": 3,
   "metadata": {
    "colab": {
     "base_uri": "https://localhost:8080/"
    },
    "executionInfo": {
     "elapsed": 1510,
     "status": "ok",
     "timestamp": 1682492101960,
     "user": {
      "displayName": "Ori Darshan",
      "userId": "10783320972420848093"
     },
     "user_tz": -180
    },
    "id": "2DcoXqxbeHjx",
    "outputId": "2b636e18-0c7d-4228-f733-29591b2c0940"
   },
   "outputs": [
    {
     "name": "stdout",
     "output_type": "stream",
     "text": [
      "Downloading http://yann.lecun.com/exdb/mnist/train-images-idx3-ubyte.gz\n",
      "Downloading http://yann.lecun.com/exdb/mnist/train-images-idx3-ubyte.gz to data\\MNIST\\raw\\train-images-idx3-ubyte.gz\n"
     ]
    },
    {
     "name": "stderr",
     "output_type": "stream",
     "text": [
      "100.0%\n"
     ]
    },
    {
     "name": "stdout",
     "output_type": "stream",
     "text": [
      "Extracting data\\MNIST\\raw\\train-images-idx3-ubyte.gz to data\\MNIST\\raw\n",
      "\n",
      "Downloading http://yann.lecun.com/exdb/mnist/train-labels-idx1-ubyte.gz\n",
      "Downloading http://yann.lecun.com/exdb/mnist/train-labels-idx1-ubyte.gz to data\\MNIST\\raw\\train-labels-idx1-ubyte.gz\n"
     ]
    },
    {
     "name": "stderr",
     "output_type": "stream",
     "text": [
      "100.0%\n"
     ]
    },
    {
     "name": "stdout",
     "output_type": "stream",
     "text": [
      "Extracting data\\MNIST\\raw\\train-labels-idx1-ubyte.gz to data\\MNIST\\raw\n",
      "\n",
      "Downloading http://yann.lecun.com/exdb/mnist/t10k-images-idx3-ubyte.gz\n",
      "Downloading http://yann.lecun.com/exdb/mnist/t10k-images-idx3-ubyte.gz to data\\MNIST\\raw\\t10k-images-idx3-ubyte.gz\n"
     ]
    },
    {
     "name": "stderr",
     "output_type": "stream",
     "text": [
      "100.0%\n"
     ]
    },
    {
     "name": "stdout",
     "output_type": "stream",
     "text": [
      "Extracting data\\MNIST\\raw\\t10k-images-idx3-ubyte.gz to data\\MNIST\\raw\n",
      "\n",
      "Downloading http://yann.lecun.com/exdb/mnist/t10k-labels-idx1-ubyte.gz\n",
      "Downloading http://yann.lecun.com/exdb/mnist/t10k-labels-idx1-ubyte.gz to data\\MNIST\\raw\\t10k-labels-idx1-ubyte.gz\n"
     ]
    },
    {
     "name": "stderr",
     "output_type": "stream",
     "text": [
      "100.0%"
     ]
    },
    {
     "name": "stdout",
     "output_type": "stream",
     "text": [
      "Extracting data\\MNIST\\raw\\t10k-labels-idx1-ubyte.gz to data\\MNIST\\raw\n",
      "\n"
     ]
    },
    {
     "name": "stderr",
     "output_type": "stream",
     "text": [
      "\n"
     ]
    }
   ],
   "source": [
    "# Download training data from open datasets.\n",
    "training_data = datasets.MNIST(\n",
    "    root=\"data\",\n",
    "    train=True,\n",
    "    download=True,\n",
    "    transform=ToTensor(),\n",
    ")\n",
    "\n",
    "# Download test data from open datasets.\n",
    "test_data = datasets.MNIST(\n",
    "    root=\"data\",\n",
    "    train=False,\n",
    "    download=True,\n",
    "    transform=ToTensor(),\n",
    ")"
   ]
  },
  {
   "cell_type": "code",
   "execution_count": 4,
   "metadata": {
    "executionInfo": {
     "elapsed": 5,
     "status": "ok",
     "timestamp": 1682492101961,
     "user": {
      "displayName": "Ori Darshan",
      "userId": "10783320972420848093"
     },
     "user_tz": -180
    },
    "id": "TAqDc1YhU3Xo"
   },
   "outputs": [],
   "source": [
    "train_datasets = []\n",
    "for i in range (10):\n",
    "    # reduce datasets\n",
    "    from torch.utils.data import Subset\n",
    "\n",
    "    # train data\n",
    "    train_idx = np.random.choice(60000, 4000)\n",
    "    train_datasets.append(Subset(training_data, train_idx))\n",
    "\n",
    "# test data\n",
    "test_idx = np.random.choice(10000, 1000)\n",
    "test_data = Subset(test_data, test_idx)"
   ]
  },
  {
   "cell_type": "code",
   "execution_count": 5,
   "metadata": {
    "colab": {
     "base_uri": "https://localhost:8080/"
    },
    "executionInfo": {
     "elapsed": 6,
     "status": "ok",
     "timestamp": 1682492101962,
     "user": {
      "displayName": "Ori Darshan",
      "userId": "10783320972420848093"
     },
     "user_tz": -180
    },
    "id": "-GK-dVHZYczT",
    "outputId": "c34224b5-704b-4aeb-bd7d-80730787306a"
   },
   "outputs": [
    {
     "name": "stdout",
     "output_type": "stream",
     "text": [
      "Using cpu device\n"
     ]
    }
   ],
   "source": [
    "batch_size = 256\n",
    "epochs = 1000\n",
    "learning_rate = 1e-4\n",
    "\n",
    "# Get cpu or gpu device for training.\n",
    "device = \"cuda\" if torch.cuda.is_available() else \"mps\" if torch.backends.mps.is_available() else \"cpu\"\n",
    "print(f\"Using {device} device\")\n",
    "\n",
    "\n"
   ]
  },
  {
   "cell_type": "markdown",
   "metadata": {
    "id": "JcTsMeV6zgHV"
   },
   "source": [
    "## Run on only 1 dataset\n",
    "to get an idea of the reults in reasonable time"
   ]
  },
  {
   "cell_type": "code",
   "execution_count": 6,
   "metadata": {
    "colab": {
     "base_uri": "https://localhost:8080/"
    },
    "id": "o7cgP9Ie18dj",
    "outputId": "648bd8be-30a5-4fac-e061-b6d1165a309d"
   },
   "outputs": [
    {
     "name": "stdout",
     "output_type": "stream",
     "text": [
      "********* Single Dataset ***********\n",
      "\n",
      "******* Middle layer size: 1 **************\n",
      "\n",
      "Test Error: \n",
      " Accuracy: 21.4%, Avg loss: 1.838142 \n",
      "\n",
      "Train Loss: 1.800228 \n",
      "\n",
      "Done!\n",
      "\n",
      "******* Middle layer size: 2 **************\n",
      "\n",
      "Test Error: \n",
      " Accuracy: 55.2%, Avg loss: 1.287761 \n",
      "\n",
      "Train Loss: 1.047203 \n",
      "\n",
      "Done!\n",
      "\n",
      "******* Middle layer size: 3 **************\n",
      "\n",
      "Test Error: \n",
      " Accuracy: 73.5%, Avg loss: 0.838842 \n",
      "\n",
      "Train Loss: 0.686830 \n",
      "\n",
      "Done!\n",
      "\n",
      "******* Middle layer size: 4 **************\n",
      "\n",
      "Test Error: \n",
      " Accuracy: 79.5%, Avg loss: 0.744647 \n",
      "\n",
      "Train Loss: 0.448619 \n",
      "\n",
      "Done!\n",
      "\n",
      "******* Middle layer size: 5 **************\n",
      "\n",
      "Test Error: \n",
      " Accuracy: 83.5%, Avg loss: 0.526250 \n",
      "\n",
      "Train Loss: 0.233460 \n",
      "\n",
      "Done!\n",
      "\n",
      "******* Middle layer size: 6 **************\n",
      "\n",
      "Test Error: \n",
      " Accuracy: 84.8%, Avg loss: 0.517550 \n",
      "\n",
      "Train Loss: 0.186726 \n",
      "\n",
      "Done!\n",
      "\n",
      "******* Middle layer size: 7 **************\n",
      "\n",
      "Test Error: \n",
      " Accuracy: 87.8%, Avg loss: 0.465573 \n",
      "\n",
      "Train Loss: 0.131182 \n",
      "\n",
      "Done!\n",
      "\n",
      "******* Middle layer size: 8 **************\n",
      "\n",
      "Test Error: \n",
      " Accuracy: 87.6%, Avg loss: 0.453643 \n",
      "\n",
      "Train Loss: 0.090526 \n",
      "\n",
      "Done!\n",
      "\n",
      "******* Middle layer size: 9 **************\n",
      "\n",
      "Test Error: \n",
      " Accuracy: 89.0%, Avg loss: 0.429985 \n",
      "\n",
      "Train Loss: 0.069313 \n",
      "\n",
      "Done!\n",
      "\n",
      "******* Middle layer size: 10 **************\n",
      "\n",
      "Test Error: \n",
      " Accuracy: 87.8%, Avg loss: 0.457052 \n",
      "\n",
      "Train Loss: 0.069144 \n",
      "\n",
      "Done!\n",
      "\n",
      "******* Middle layer size: 11 **************\n",
      "\n",
      "Test Error: \n",
      " Accuracy: 87.8%, Avg loss: 0.452699 \n",
      "\n",
      "Train Loss: 0.064255 \n",
      "\n",
      "Done!\n",
      "\n",
      "******* Middle layer size: 12 **************\n",
      "\n",
      "Test Error: \n",
      " Accuracy: 88.9%, Avg loss: 0.418339 \n",
      "\n",
      "Train Loss: 0.048670 \n",
      "\n",
      "Done!\n",
      "\n",
      "******* Middle layer size: 13 **************\n",
      "\n",
      "Test Error: \n",
      " Accuracy: 90.1%, Avg loss: 0.428968 \n",
      "\n",
      "Train Loss: 0.040817 \n",
      "\n",
      "Done!\n",
      "\n",
      "******* Middle layer size: 14 **************\n",
      "\n",
      "Test Error: \n",
      " Accuracy: 89.3%, Avg loss: 0.435376 \n",
      "\n",
      "Train Loss: 0.042115 \n",
      "\n",
      "Done!\n",
      "\n",
      "******* Middle layer size: 15 **************\n",
      "\n",
      "Test Error: \n",
      " Accuracy: 90.4%, Avg loss: 0.406193 \n",
      "\n",
      "Train Loss: 0.039846 \n",
      "\n",
      "Done!\n",
      "\n",
      "******* Middle layer size: 16 **************\n",
      "\n",
      "Test Error: \n",
      " Accuracy: 90.1%, Avg loss: 0.420662 \n",
      "\n",
      "Train Loss: 0.043078 \n",
      "\n",
      "Done!\n",
      "\n",
      "******* Middle layer size: 17 **************\n",
      "\n",
      "Test Error: \n",
      " Accuracy: 88.7%, Avg loss: 0.440244 \n",
      "\n",
      "Train Loss: 0.034605 \n",
      "\n",
      "Done!\n",
      "\n",
      "******* Middle layer size: 18 **************\n",
      "\n",
      "Test Error: \n",
      " Accuracy: 89.8%, Avg loss: 0.423011 \n",
      "\n",
      "Train Loss: 0.028736 \n",
      "\n",
      "Done!\n",
      "\n",
      "******* Middle layer size: 19 **************\n",
      "\n",
      "Test Error: \n",
      " Accuracy: 90.2%, Avg loss: 0.435769 \n",
      "\n",
      "Train Loss: 0.030498 \n",
      "\n",
      "Done!\n",
      "\n",
      "******* Middle layer size: 20 **************\n",
      "\n",
      "Test Error: \n",
      " Accuracy: 90.1%, Avg loss: 0.415656 \n",
      "\n",
      "Train Loss: 0.021020 \n",
      "\n",
      "Done!\n",
      "\n",
      "******* Middle layer size: 21 **************\n",
      "\n",
      "Test Error: \n",
      " Accuracy: 89.9%, Avg loss: 0.423219 \n",
      "\n",
      "Train Loss: 0.021892 \n",
      "\n",
      "Done!\n",
      "\n",
      "******* Middle layer size: 22 **************\n",
      "\n",
      "Test Error: \n",
      " Accuracy: 89.8%, Avg loss: 0.452720 \n",
      "\n",
      "Train Loss: 0.022393 \n",
      "\n",
      "Done!\n",
      "\n",
      "******* Middle layer size: 23 **************\n",
      "\n",
      "Test Error: \n",
      " Accuracy: 90.1%, Avg loss: 0.463542 \n",
      "\n",
      "Train Loss: 0.021027 \n",
      "\n",
      "Done!\n",
      "\n",
      "******* Middle layer size: 24 **************\n",
      "\n",
      "Test Error: \n",
      " Accuracy: 90.3%, Avg loss: 0.410893 \n",
      "\n",
      "Train Loss: 0.015095 \n",
      "\n",
      "Done!\n",
      "\n",
      "******* Middle layer size: 25 **************\n",
      "\n",
      "Test Error: \n",
      " Accuracy: 90.5%, Avg loss: 0.424633 \n",
      "\n",
      "Train Loss: 0.011063 \n",
      "\n",
      "Done!\n",
      "\n",
      "******* Middle layer size: 26 **************\n",
      "\n",
      "Test Error: \n",
      " Accuracy: 90.2%, Avg loss: 0.471626 \n",
      "\n",
      "Train Loss: 0.015670 \n",
      "\n",
      "Done!\n",
      "\n",
      "******* Middle layer size: 27 **************\n",
      "\n",
      "Test Error: \n",
      " Accuracy: 89.8%, Avg loss: 0.459817 \n",
      "\n",
      "Train Loss: 0.010599 \n",
      "\n",
      "Done!\n",
      "\n",
      "******* Middle layer size: 28 **************\n",
      "\n",
      "Test Error: \n",
      " Accuracy: 90.6%, Avg loss: 0.477690 \n",
      "\n",
      "Train Loss: 0.010361 \n",
      "\n",
      "Done!\n",
      "\n",
      "******* Middle layer size: 29 **************\n",
      "\n",
      "Test Error: \n",
      " Accuracy: 90.4%, Avg loss: 0.475784 \n",
      "\n",
      "Train Loss: 0.009158 \n",
      "\n",
      "Done!\n",
      "\n",
      "******* Middle layer size: 30 **************\n",
      "\n",
      "Test Error: \n",
      " Accuracy: 89.8%, Avg loss: 0.477065 \n",
      "\n",
      "Train Loss: 0.009988 \n",
      "\n",
      "Done!\n",
      "\n",
      "******* Middle layer size: 31 **************\n",
      "\n",
      "Test Error: \n",
      " Accuracy: 89.6%, Avg loss: 0.494050 \n",
      "\n",
      "Train Loss: 0.011922 \n",
      "\n",
      "Done!\n",
      "\n",
      "******* Middle layer size: 32 **************\n",
      "\n",
      "Test Error: \n",
      " Accuracy: 90.5%, Avg loss: 0.455862 \n",
      "\n",
      "Train Loss: 0.008372 \n",
      "\n",
      "Done!\n",
      "\n",
      "******* Middle layer size: 33 **************\n",
      "\n",
      "Test Error: \n",
      " Accuracy: 90.9%, Avg loss: 0.477007 \n",
      "\n",
      "Train Loss: 0.007317 \n",
      "\n",
      "Done!\n",
      "\n",
      "******* Middle layer size: 34 **************\n",
      "\n",
      "Test Error: \n",
      " Accuracy: 91.4%, Avg loss: 0.426245 \n",
      "\n",
      "Train Loss: 0.004227 \n",
      "\n",
      "Done!\n",
      "\n",
      "******* Middle layer size: 35 **************\n",
      "\n",
      "Test Error: \n",
      " Accuracy: 90.2%, Avg loss: 0.518718 \n",
      "\n",
      "Train Loss: 0.009051 \n",
      "\n",
      "Done!\n",
      "\n",
      "******* Middle layer size: 36 **************\n",
      "\n",
      "Test Error: \n",
      " Accuracy: 91.4%, Avg loss: 0.469175 \n",
      "\n",
      "Train Loss: 0.005210 \n",
      "\n",
      "Done!\n",
      "\n",
      "******* Middle layer size: 37 **************\n",
      "\n",
      "Test Error: \n",
      " Accuracy: 90.1%, Avg loss: 0.500503 \n",
      "\n",
      "Train Loss: 0.007829 \n",
      "\n",
      "Done!\n",
      "\n",
      "******* Middle layer size: 38 **************\n",
      "\n",
      "Test Error: \n",
      " Accuracy: 89.9%, Avg loss: 0.508235 \n",
      "\n",
      "Train Loss: 0.007224 \n",
      "\n",
      "Done!\n",
      "\n",
      "******* Middle layer size: 39 **************\n",
      "\n",
      "Test Error: \n",
      " Accuracy: 91.7%, Avg loss: 0.475982 \n",
      "\n",
      "Train Loss: 0.003771 \n",
      "\n",
      "Done!\n",
      "\n",
      "******* Middle layer size: 40 **************\n",
      "\n",
      "Test Error: \n",
      " Accuracy: 90.7%, Avg loss: 0.506277 \n",
      "\n",
      "Train Loss: 0.005381 \n",
      "\n",
      "Done!\n"
     ]
    }
   ],
   "source": [
    "mean_layer_size_list = np.zeros(40)\n",
    "mean_train_loss_list = np.zeros(40)\n",
    "mean_test_loss_list = np.zeros(40)\n",
    "\n",
    "print(f\"********* Single Dataset ***********\")\n",
    "layer_size_list = []\n",
    "train_loss_list = []\n",
    "test_loss_list = []\n",
    "# Create data loaders.\n",
    "train_dataloader = DataLoader(train_datasets[0], batch_size=batch_size)\n",
    "test_dataloader = DataLoader(test_data, batch_size=batch_size)\n",
    "\n",
    "for net_size in range(1,41):\n",
    "    # Define model\n",
    "    class NeuralNetwork(nn.Module):\n",
    "        def __init__(self):\n",
    "            super().__init__()\n",
    "            self.flatten = nn.Flatten()\n",
    "            self.linear_relu_stack = nn.Sequential(\n",
    "                nn.Linear(28*28, net_size),\n",
    "                nn.ReLU(),\n",
    "                nn.Linear(net_size, 10),\n",
    "            )\n",
    "\n",
    "        def forward(self, x):\n",
    "            x = self.flatten(x)\n",
    "            logits = self.linear_relu_stack(x)\n",
    "            return logits\n",
    "\n",
    "    model = NeuralNetwork().to(device)\n",
    "    # print(model)\n",
    "\n",
    "    # define loss and optimizer\n",
    "    loss_fn = nn.CrossEntropyLoss()\n",
    "    optimizer = torch.optim.Adam(model.parameters(), lr=learning_rate)\n",
    "\n",
    "    # define train function\n",
    "    def train(dataloader, model, loss_fn, optimizer):\n",
    "        size = len(dataloader.dataset)\n",
    "        model.train()\n",
    "        for batch, (X, y) in enumerate(dataloader):\n",
    "            X, y = X.to(device), y.to(device)\n",
    "\n",
    "            # Compute prediction error\n",
    "            pred = model(X)\n",
    "            loss = loss_fn(pred, y)\n",
    "\n",
    "            # Backpropagation\n",
    "            optimizer.zero_grad()\n",
    "            loss.backward()\n",
    "            optimizer.step()\n",
    "\n",
    "            # if batch % 100 == 0:\n",
    "            #     loss, current = loss.item(), (batch + 1) * len(X)\n",
    "            #     print(f\"loss: {loss:>7f}  [{current:>5d}/{size:>5d}]\")\n",
    "        return loss.item()\n",
    "\n",
    "    # define test function\n",
    "    def test(dataloader, model, loss_fn):\n",
    "        size = len(dataloader.dataset)\n",
    "        num_batches = len(dataloader)\n",
    "        model.eval()\n",
    "        test_loss, correct = 0, 0\n",
    "        with torch.no_grad():\n",
    "            for X, y in dataloader:\n",
    "                X, y = X.to(device), y.to(device)\n",
    "                pred = model(X)\n",
    "                test_loss += loss_fn(pred, y).item()\n",
    "                correct += (pred.argmax(1) == y).type(torch.float).sum().item()\n",
    "        test_loss /= num_batches\n",
    "        correct /= size\n",
    "        print(f\"Test Error: \\n Accuracy: {(100*correct):>0.1f}%, Avg loss: {test_loss:>8f} \\n\")\n",
    "        return test_loss\n",
    "\n",
    "    # train!\n",
    "    print('\\n******* Middle layer size: {} **************\\n'.format(net_size))\n",
    "    for t in range(epochs):\n",
    "        # print(f\"Epoch {t+1}\\n-------------------------------\")\n",
    "        train_loss = train(train_dataloader, model, loss_fn, optimizer)\n",
    "    test_loss = test(test_dataloader, model, loss_fn)\n",
    "    print(f\"Train Loss: {train_loss:>8f} \\n\")\n",
    "        \n",
    "    layer_size_list.append(net_size)\n",
    "    train_loss_list.append(train_loss)\n",
    "    test_loss_list.append(test_loss)\n",
    "    print(\"Done!\")\n",
    "\n",
    "# save stats\n",
    "mean_layer_size_list += layer_size_list\n",
    "mean_train_loss_list += train_loss_list\n",
    "mean_test_loss_list += test_loss_list\n"
   ]
  },
  {
   "cell_type": "code",
   "execution_count": 7,
   "metadata": {
    "id": "QoHN2bCe3A0A"
   },
   "outputs": [
    {
     "data": {
      "image/png": "[encoded data removed]",
      "text/plain": [
       "<Figure size 432x288 with 1 Axes>"
      ]
     },
     "metadata": {
      "needs_background": "light"
     },
     "output_type": "display_data"
    }
   ],
   "source": [
    "# Plot the training and test loss.\n",
    "import matplotlib.pyplot as plt\n",
    "x = np.arange(0, epochs, 1)\n",
    "plt.title('Training and Test Loss')\n",
    "plt.xlabel('net size')\n",
    "plt.ylabel('Loss')\n",
    "plt.plot(layer_size_list, mean_train_loss_list, label='Training Loss')\n",
    "plt.plot(layer_size_list, mean_test_loss_list, label='Test Loss')\n",
    "plt.legend()\n",
    "plt.show()"
   ]
  }
 ],
 "metadata": {
  "accelerator": "GPU",
  "colab": {
   "provenance": []
  },
  "gpuClass": "standard",
  "kernelspec": {
   "display_name": "Python 3",
   "language": "python",
   "name": "python3"
  },
  "language_info": {
   "codemirror_mode": {
    "name": "ipython",
    "version": 3
   },
   "file_extension": ".py",
   "mimetype": "text/x-python",
   "name": "python",
   "nbconvert_exporter": "python",
   "pygments_lexer": "ipython3",
   "version": "3.8.5"
  }
 },
 "nbformat": 4,
 "nbformat_minor": 1
}
